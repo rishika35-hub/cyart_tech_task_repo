{
 "cells": [
  {
   "cell_type": "code",
   "execution_count": null,
   "id": "1eb7fd84",
   "metadata": {
    "vscode": {
     "languageId": "plaintext"
    }
   },
   "outputs": [],
   "source": [
    "import numpy as np\n",
    "import matplotlib.pyplot as plt\n",
    "from model import SimpleNN\n",
    "\n",
    "'''Generate synthetic data (e.g., noisy cubic function)'''\n",
    "def generate_data(n_samples=1000):\n",
    "    X = np.random.uniform(-3, 3, size=(n_samples, 1))\n",
    "    y = 2 * X**3 - 3 * X**2 + X + np.random.normal(0, 3, size=(n_samples, 1))\n",
    "    return X, y\n",
    "\n",
    "'''Create model and training loop''''\n",
    "input_dim = 1\n",
    "hidden_dim = 64\n",
    "output_dim = 1\n",
    "model = SimpleNN(input_dim, hidden_dim, output_dim)\n",
    "\n",
    "'''Training hyperparameters'''\n",
    "lr = 0.01\n",
    "epochs = 1000\n",
    "batch_size = 64\n",
    "X, y = generate_data(1000)\n",
    "\n",
    "losses = []\n",
    "\n",
    "for epoch in range(epochs):\n",
    "    perm = np.random.permutation(X.shape[0])\n",
    "    X, y = X[perm], y[perm]\n",
    "    epoch_loss = 0\n",
    "\n",
    "    for i in range(0, X.shape[0], batch_size):\n",
    "        X_batch = X[i:i+batch_size]\n",
    "        y_batch = y[i:i+batch_size]\n",
    "        loss = model.train_step(X_batch, y_batch, lr)\n",
    "        epoch_loss += loss * X_batch.shape[0]\n",
    "\n",
    "    epoch_loss /= X.shape[0]\n",
    "    losses.append(epoch_loss)\n",
    "\n",
    "    if (epoch+1) % 100 == 0:\n",
    "        print(f\"Epoch {epoch+1}/{epochs}, Loss: {epoch_loss:.4f}\")\n",
    "        \n",
    "  '''Plot loss curve'''\n",
    "plt.plot(losses)\n",
    "plt.xlabel(\"Epoch\")\n",
    "plt.ylabel(\"MSE Loss\")\n",
    "plt.title(\"Training Loss Curve\")\n",
    "plt.grid(True)\n",
    "plt.show()\n",
    "\n",
    "'''Evaluate on test data'''\n",
    "X_test = np.linspace(-3, 3, 200).reshape(-1, 1)\n",
    "y_pred = model.forward(X_test)\n",
    "\n",
    "'''Plot predictions vs ground truth'''\n",
    "X_train_vis, y_train_vis = X[:200], y[:200]\n",
    "plt.scatter(X_train_vis, y_train_vis, color='blue', label='Training Data', alpha=0.4)\n",
    "plt.plot(X_test, y_pred, color='red', label='Model Prediction', linewidth=2)\n",
    "plt.title(\"Model Prediction vs Ground Truth\")\n",
    "plt.xlabel(\"X\")\n",
    "plt.ylabel(\"y\")\n",
    "plt.legend()\n",
    "plt.grid(True)\n",
    "plt.show()\n"
   ]
  }
 ],
 "metadata": {
  "language_info": {
   "name": "python"
  }
 },
 "nbformat": 4,
 "nbformat_minor": 5
}
