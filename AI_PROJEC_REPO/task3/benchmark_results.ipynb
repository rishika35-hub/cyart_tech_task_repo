{
 "cells": [
  {
   "cell_type": "code",
   "execution_count": null,
   "id": "1a649c32",
   "metadata": {
    "vscode": {
     "languageId": "plaintext"
    }
   },
   "outputs": [],
   "source": [
    "# Task3/benchmark_results.ipynb\n",
    "\n",
    "import pandas as pd\n",
    "import matplotlib.pyplot as plt\n",
    "\n",
    "# Load results\n",
    "df = pd.read_csv(\"benchmark_results.csv\")\n",
    "\n",
    "# Plot\n",
    "df.plot(kind='bar', x='Method', y='Time (s)', title='Rolling Mean Performance Comparison')\n",
    "plt.tight_layout()\n",
    "plt.show()\n"
   ]
  }
 ],
 "metadata": {
  "language_info": {
   "name": "python"
  }
 },
 "nbformat": 4,
 "nbformat_minor": 5
}
