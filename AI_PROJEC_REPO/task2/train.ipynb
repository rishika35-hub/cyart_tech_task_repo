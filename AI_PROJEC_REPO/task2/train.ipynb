{
 "cells": [
  {
   "cell_type": "markdown",
   "id": "8d3e10c6",
   "metadata": {},
   "source": [
    "task 2 train.ipynb\n"
   ]
  },
  {
   "cell_type": "code",
   "execution_count": null,
   "id": "cd900dbb",
   "metadata": {
    "vscode": {
     "languageId": "plaintext"
    }
   },
   "outputs": [],
   "source": [
    "import pandas as pd\n",
    "from nlp_pipeline import analyze_text\n",
    "import matplotlib.pyplot as plt"
   ]
  },
  {
   "cell_type": "code",
   "execution_count": null,
   "id": "bc0f8bb3",
   "metadata": {
    "vscode": {
     "languageId": "plaintext"
    }
   },
   "outputs": [],
   "source": [
    "\n",
    "sample_text = \"\"\"\n",
    "Inception is a 2010 science fiction action film written and directed by Christopher Nolan. \n",
    "The film stars Leonardo DiCaprio as a professional thief who steals information by infiltrating the subconscious of his targets.\n",
    "\"\"\""
   ]
  },
  {
   "cell_type": "code",
   "execution_count": null,
   "id": "39eb3b80",
   "metadata": {
    "vscode": {
     "languageId": "plaintext"
    }
   },
   "outputs": [],
   "source": [
    "result = analyze_text(sample_text)"
   ]
  },
  {
   "cell_type": "code",
   "execution_count": null,
   "id": "ea1c16e8",
   "metadata": {
    "vscode": {
     "languageId": "plaintext"
    }
   },
   "outputs": [],
   "source": [
    "print(\"Top 10 Words:\")\n",
    "for word, freq in result['top_words']:\n",
    "    print(f\"{word}: {freq}\")"
   ]
  },
  {
   "cell_type": "code",
   "execution_count": null,
   "id": "3ea8fd30",
   "metadata": {
    "vscode": {
     "languageId": "plaintext"
    }
   },
   "outputs": [],
   "source": [
    "print(\"\\nSentiment Analysis:\")\n",
    "print(result['sentiment'])"
   ]
  },
  {
   "cell_type": "code",
   "execution_count": null,
   "id": "0c7cc471",
   "metadata": {
    "vscode": {
     "languageId": "plaintext"
    }
   },
   "outputs": [],
   "source": [
    "print(\"\\nTop Collocations (Bigrams):\")\n",
    "print(result['collocations'])"
   ]
  },
  {
   "cell_type": "code",
   "execution_count": null,
   "id": "255a2216",
   "metadata": {
    "vscode": {
     "languageId": "plaintext"
    }
   },
   "outputs": [],
   "source": [
    "print(\"\\nPOS Tags (first 10):\")\n",
    "print(result['pos_tags'][:10])"
   ]
  },
  {
   "cell_type": "code",
   "execution_count": null,
   "id": "6d5f8c23",
   "metadata": {
    "vscode": {
     "languageId": "plaintext"
    }
   },
   "outputs": [],
   "source": [
    "df_top = pd.DataFrame(result['top_words'], columns=['Word', 'Frequency'])\n",
    "df_top.plot(kind='bar', x='Word', y='Frequency', title='Top 10 Words', legend=False)\n",
    "plt.tight_layout()\n",
    "plt.show()"
   ]
  }
 ],
 "metadata": {
  "language_info": {
   "name": "python"
  }
 },
 "nbformat": 4,
 "nbformat_minor": 5
}
