{
 "cells": [
  {
   "cell_type": "code",
   "execution_count": null,
   "id": "1a3244d4",
   "metadata": {
    "vscode": {
     "languageId": "plaintext"
    }
   },
   "outputs": [],
   "source": [
    "import pandas as pd\n",
    "import statsmodels.api as sm\n",
    "\n",
    "# Load cleaned data\n",
    "df = pd.read_csv(\"data/cleaned_dataset.csv\", parse_dates=[\"Date\"])\n",
    "\n",
    "# Prepare modeling DataFrame\n",
    "df['Month'] = df['Month'].astype('category')\n",
    "df = pd.get_dummies(df, columns=['Month'], drop_first=True)\n",
    "\n",
    "features = ['Expenditure', 'Revenue_per_expenditure', 'RevLag1'] + [col for col in df.columns if col.startswith('Month_')]\n",
    "X = df[features]\n",
    "X = sm.add_constant(X)\n",
    "y = df['Revenue']\n",
    "\n",
    "# Fit OLS model\n",
    "model = sm.OLS(y, X).fit()\n",
    "print(model.summary())\n",
    "\n",
    "# Interpretation markdown\n"
   ]
  }
 ],
 "metadata": {
  "language_info": {
   "name": "python"
  }
 },
 "nbformat": 4,
 "nbformat_minor": 5
}
