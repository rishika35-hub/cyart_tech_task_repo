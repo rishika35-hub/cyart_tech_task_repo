{
 "cells": [
  {
   "cell_type": "code",
   "execution_count": null,
   "id": "d64d57fc",
   "metadata": {
    "vscode": {
     "languageId": "plaintext"
    }
   },
   "outputs": [],
   "source": [
    "# Cell 1: Imports\n",
    "import pandas as pd\n",
    "import numpy as np\n",
    "\n",
    "# Cell 2: Load raw data\n",
    "df = pd.read_csv(\"data/raw_dataset.csv\", parse_dates=[\"Date\"])\n",
    "\n",
    "# Cell 3: Initial overview\n",
    "df.info()\n",
    "df.describe(include=\"all\")\n",
    "\n",
    "# Cell 4: Missing data handling\n",
    "df['Revenue'] = pd.to_numeric(df['Revenue'], errors='coerce')\n",
    "df['Expenditure'] = pd.to_numeric(df['Expenditure'], errors='coerce')\n",
    "df['Revenue'].fillna(df.groupby('State')['Revenue'].transform('mean'), inplace=True)\n",
    "df['Expenditure'].fillna(df.groupby('State')['Expenditure'].transform('median'), inplace=True)\n",
    "\n",
    "# Cell 5: Outlier detection and conversion\n",
    "q_low = df['Revenue'].quantile(0.01)\n",
    "q_high = df['Revenue'].quantile(0.99)\n",
    "df.loc[df['Revenue'] < q_low, 'Revenue'] = np.nan\n",
    "df.loc[df['Revenue'] > q_high, 'Revenue'] = np.nan\n",
    "df['Revenue'].fillna(df['Revenue'].mean(), inplace=True)\n",
    "\n",
    "# Cell 6: Feature engineering\n",
    "df['Month'] = df['Date'].dt.month.astype('category')\n",
    "df['Revenue_per_expenditure'] = df['Revenue'] / df['Expenditure']\n",
    "df['RevLag1'] = df.groupby('State')['Revenue'].shift(1)\n",
    "df['RevLag1'].fillna(df['Revenue'].mean(), inplace=True)\n",
    "\n",
    "# Cell 7: Schema normalization\n",
    "df_pivot = df.pivot(index='Date', columns='State', values='Revenue').reset_index()\n",
    "\n",
    "# Cell 8: Save cleaned data\n",
    "df.to_csv(\"data/cleaned_dataset.csv\", index=False)"
   ]
  }
 ],
 "metadata": {
  "language_info": {
   "name": "python"
  }
 },
 "nbformat": 4,
 "nbformat_minor": 5
}
